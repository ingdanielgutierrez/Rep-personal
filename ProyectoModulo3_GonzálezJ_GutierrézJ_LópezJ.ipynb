{
 "cells": [
  {
   "cell_type": "markdown",
   "id": "c9e7996c",
   "metadata": {},
   "source": [
    "## MODELO SIR  ##"
   ]
  },
  {
   "cell_type": "markdown",
   "id": "3c8696de",
   "metadata": {},
   "source": [
    "### Integrantes ###"
   ]
  },
  {
   "cell_type": "markdown",
   "id": "51d2aaeb",
   "metadata": {},
   "source": [
    " - JORGE LUIS GONZALEZ DE LA CERDA\n",
    " - JOSÉ DANIEL GUTIÉRREZ GARCÍA\n",
    " - JOSÉ CARLOS LÓPEZ AGUILAR"
   ]
  },
  {
   "cell_type": "markdown",
   "id": "e42f62be",
   "metadata": {},
   "source": [
    "### Introducción ###\n",
    "La epidemiología matemática modela la propagación de enfermedades infecciosas en una comunidad. Su objetivo es entender los mecanismos que hacen posible que se lleve a cabo dicha propagación. Gracias al modelo SIR que tiene su origen en el trabajo de Kermack y McKendrick, se puede caracterizar la evolución de una epidemia que se propaga mediante contagio entre los individuos de una población..\n",
    "\n",
    "\n",
    "### Objetivos ###\n",
    "- Poner en práctica el conocimiento adquirido en el módulo 3 del curso.\n",
    "- Hacer uso del modelo de Kermack y McKendrick para relacionar las variaciones de las tres poblaciones (Susceptible, Infectada y Recuperada) a través de la tasa de infección y el período infeccioso promedio.\n"
   ]
  },
  {
   "cell_type": "markdown",
   "id": "9fbe73a8",
   "metadata": {},
   "source": [
    "### Modelo que representa el problema ###\n",
    "El modelo básico SIR (Susceptibles-Infectados-Recuperados) de Kermack y McKendrick es un modelo de compartimentos donde la población bajo estudio se divide en clases epidemiológicas y se describe un flujo entre ellas; en este modelo el compartimento del centro mide la prevalencia, es decir, el número de casos de una enfermedad en la población en un tiempo dado, o sea, I(t).\n",
    "\n",
    "El modelo básico SIR de Kermack y McKendrick asume que la población total N se mantiene constante en el tiempo, o sea, es la suma de los susceptibles más los infectados más los recuperados:\n",
    "\n",
    "$$ N = S(t)+I(t)+R(t) $$\n",
    "\n",
    "La transmisión es por contacto directo. Para transmitir la infección, un infeccioso hace contacto con βN individuos por unidad de tiempo. La probabilidad de contacto entre un infeccioso y un susceptible es S/N, luego el número de nuevas infecciones por unidad de tiempo es (βN)(S/N)I= βS I. Es decir, un infeccioso transmite la enfermedad con una tasa de contagio β, según la ley de acción de masas. Esto significa que los cambios en la población susceptible también se comportan según la ley de acción de masas. Por otra parte, una fracción ν de infectados por unidad de tiempo deja esa clase para convertirse en recuperados con inmunidad permanente. Esto conduce al sistema de ecuaciones diferenciales del modelo SIR:\n",
    "\n",
    "$$ \\frac{d}{dt} S(t) = -BS(t)I(t) $$\n",
    "\n",
    "$$ \\frac{d}{dt} I(t) = BS(t)I(t) - vI(t) $$\n",
    "\n",
    "$$ \\frac{d}{dt} R(t) = vI(t) $$"
   ]
  },
  {
   "cell_type": "markdown",
   "id": "706f9a5d",
   "metadata": {},
   "source": [
    "### Proceso ###"
   ]
  },
  {
   "cell_type": "markdown",
   "id": "71c63912",
   "metadata": {},
   "source": [
    "Lo primero que realizamos es importar las bibliotecas con las que vamos a trabajar"
   ]
  },
  {
   "cell_type": "code",
   "execution_count": 2,
   "id": "35aefbe7",
   "metadata": {},
   "outputs": [],
   "source": [
    "import numpy as np\n",
    "from scipy.integrate import odeint\n",
    "import matplotlib.pyplot as plt"
   ]
  },
  {
   "cell_type": "markdown",
   "id": "01298a10",
   "metadata": {},
   "source": [
    "Ponemos la población total a considerar, además agregamos: los valores iniciales de personas infectadas (I0), las personas que se recuperaron (R0) y las personas que están sujetas a infección inicialmente (S0), las cuales son el resto de la población"
   ]
  },
  {
   "cell_type": "code",
   "execution_count": 3,
   "id": "765fecff",
   "metadata": {},
   "outputs": [],
   "source": [
    "N = 100000\n",
    "I0, R0 = 1, 0\n",
    "S0 = N - I0 - R0"
   ]
  },
  {
   "cell_type": "markdown",
   "id": "3580e879",
   "metadata": {},
   "source": [
    "Obtenemos la Tasa de transmisión el cuál está representado por beta (β) y la Tasa de recuperación en 1/días representado por gamma (γ)"
   ]
  },
  {
   "cell_type": "code",
   "execution_count": 4,
   "id": "7154b855",
   "metadata": {},
   "outputs": [],
   "source": [
    "beta, gamma = 2.2, 1./5.2\n",
    "t = np.linspace(0, 40, 40)"
   ]
  },
  {
   "cell_type": "markdown",
   "id": "42572e77",
   "metadata": {},
   "source": [
    "Utilizamos las ecuaciones diferenciales del modelo SIR"
   ]
  },
  {
   "cell_type": "code",
   "execution_count": 5,
   "id": "fcc6c353",
   "metadata": {},
   "outputs": [],
   "source": [
    "def deriv(y, t, N, beta, gamma):\n",
    "    S, I, R = y\n",
    "    dSdt = -beta * S * I / N\n",
    "    dIdt = beta * S * I / N - gamma * I\n",
    "    dRdt = gamma * I\n",
    "    return dSdt, dIdt, dRdt"
   ]
  },
  {
   "cell_type": "markdown",
   "id": "03f44885",
   "metadata": {},
   "source": [
    "Obtenemos el Vector de las condiciones iniciales y resolvemos el sistema de ecuaciones diferenciales, en la secuencia de días que ya definimos"
   ]
  },
  {
   "cell_type": "code",
   "execution_count": 6,
   "id": "b1068ac7",
   "metadata": {},
   "outputs": [],
   "source": [
    "y0 = S0, I0, R0\n",
    "ret = odeint(deriv, y0, t, args=(N, beta, gamma))\n",
    "S, I, R = ret.T"
   ]
  },
  {
   "cell_type": "markdown",
   "id": "0c5d5d38",
   "metadata": {},
   "source": [
    "### Visualización de los resultados ###\n",
    "Trazamos los datos en tres curvas separadas para S(t), I(t) y R(t)"
   ]
  },
  {
   "cell_type": "code",
   "execution_count": 7,
   "id": "866a131a",
   "metadata": {
    "scrolled": true
   },
   "outputs": [
    {
     "data": {
      "image/png": "[encoded data removed]",
      "text/plain": [
       "<Figure size 432x288 with 1 Axes>"
      ]
     },
     "metadata": {},
     "output_type": "display_data"
    }
   ],
   "source": [
    "fig = plt.figure(facecolor='w')\n",
    "ax = fig.add_subplot(111, facecolor='#dddddd', axisbelow=True)\n",
    "ax.plot(t, S/100000, 'b', alpha=0.5, lw=2, label='Susceptible')\n",
    "ax.plot(t, I/100000, 'r', alpha=0.5, lw=2, label='Infectado')\n",
    "ax.plot(t, R/100000, 'g', alpha=0.5, lw=2, label='Recuperación')\n",
    "ax.set_xlabel('Tiempo /días')\n",
    "ax.set_ylabel('Número (100000s)')\n",
    "ax.set_ylim(0,1.2)\n",
    "ax.yaxis.set_tick_params(length=0)\n",
    "ax.xaxis.set_tick_params(length=0)\n",
    "ax.grid(b=True, which='major', c='w', lw=2, ls='-')\n",
    "legend = ax.legend()\n",
    "legend.get_frame().set_alpha(0.5)\n",
    "for spine in ('top', 'right', 'bottom', 'left'):\n",
    "    ax.spines[spine].set_visible(False)\n",
    "plt.show()"
   ]
  },
  {
   "attachments": {},
   "cell_type": "markdown",
   "id": "da95f39b",
   "metadata": {},
   "source": [
    "### Conclusiones ###\n",
    "Un sistema de salud con una buen organización, que se encuentre preparado para distintas situaciones de peligro y actualizado es una gran ventaja e importante para que los gobiernos puedan aprovechar las potencialidades de los modelos epidemiológicos. \n",
    "La calidad en la estimación de parámetros depende en gran medida de la calidad de los datos que el sistema de salud pueda proporcionar."
   ]
  },
  {
   "cell_type": "markdown",
   "id": "a7668d18",
   "metadata": {},
   "source": [
    "### Referencias ###\n",
    "- (2020). Modelos matemáticos. Disponible en: http://www.scielo.org.co/scielo.php?pid=S1657-95342020000200009&script=sci_arttext&tlng=es .[Consultado el 5 de abril de 2022, a las 18:24 hrs.]\n",
    "- Martín Barroso, Víctor. (2020). Una breve introducción al modelo SIR. Disponible en: https://eprints.ucm.es/id/eprint/60026/ .[Consultado el 5 de abril de 2022, a las 19:00 hrs.]"
   ]
  }
 ],
 "metadata": {
  "kernelspec": {
   "display_name": "Python 3 (ipykernel)",
   "language": "python",
   "name": "python3"
  },
  "language_info": {
   "codemirror_mode": {
    "name": "ipython",
    "version": 3
   },
   "file_extension": ".py",
   "mimetype": "text/x-python",
   "name": "python",
   "nbconvert_exporter": "python",
   "pygments_lexer": "ipython3",
   "version": "3.9.7"
  }
 },
 "nbformat": 4,
 "nbformat_minor": 5
}
